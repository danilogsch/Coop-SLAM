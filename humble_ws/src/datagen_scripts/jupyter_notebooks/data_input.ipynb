{
 "cells": [
  {
   "cell_type": "code",
   "execution_count": 11,
   "id": "253e6727-a22a-40de-89a2-56d8414a94e0",
   "metadata": {},
   "outputs": [
    {
     "data": {
      "text/plain": [
       "'/home/danilo/humble_ws/src/datagen_scripts/jupyter_notebooks'"
      ]
     },
     "execution_count": 11,
     "metadata": {},
     "output_type": "execute_result"
    }
   ],
   "source": [
    "%pwd"
   ]
  },
  {
   "cell_type": "code",
   "execution_count": 9,
   "id": "ad5bde31-6c95-4b2c-b634-3012e5d10e59",
   "metadata": {},
   "outputs": [
    {
     "name": "stdout",
     "output_type": "stream",
     "text": [
      "Python 3.9.12\n",
      "nvcc: NVIDIA (R) Cuda compiler driver\n",
      "Copyright (c) 2005-2022 NVIDIA Corporation\n",
      "Built on Wed_Jun__8_16:49:14_PDT_2022\n",
      "Cuda compilation tools, release 11.7, V11.7.99\n",
      "Build cuda_11.7.r11.7/compiler.31442593_0\n"
     ]
    }
   ],
   "source": [
    "!python --version && nvcc --version"
   ]
  },
  {
   "cell_type": "code",
   "execution_count": 2,
   "id": "88485639-4880-4eda-96c0-48cb62060b98",
   "metadata": {},
   "outputs": [],
   "source": [
    "import os\n",
    "import cv2\n",
    "import matplotlib.pyplot as plt\n",
    "from PIL import Image\n",
    "import json\n",
    "import numpy as np\n",
    "#import imgaug as ia\n",
    "#from imgaug import augmenters as iaa"
   ]
  },
  {
   "cell_type": "code",
   "execution_count": null,
   "id": "a2d99e49-78bf-42ea-bccd-721135117fda",
   "metadata": {},
   "outputs": [],
   "source": [
    "def plot_pair(images, gray=False):\n",
    "    \n",
    "    fig, axes = plt.subplots(nrows=1, ncols=2,sharex=False, sharey=False, figsize=(10,8))\n",
    "    i=0\n",
    "    \n",
    "    for y in range(2):\n",
    "        if gray:\n",
    "            axes[y].imshow(images[i],cmap='gray')\n",
    "        else:\n",
    "            axes[y].imshow(images[i])\n",
    "        axes[y].get_xaxis().set_visible(False)\n",
    "        axes[y].get_yaxis().set_visible(False)\n",
    "        i+=1\n",
    "        \n",
    "    plt.show"
   ]
  },
  {
   "cell_type": "code",
   "execution_count": 7,
   "id": "c919776c-86c2-4932-ab1e-93d664b2b4d6",
   "metadata": {},
   "outputs": [],
   "source": [
    "from detectron2.utils.logger import setup_logger\n",
    "setup_logger()\n",
    "\n",
    "from detectron2.data.datasets import register_coco_instances\n",
    "from detectron2.engine import DefaultTrainer\n",
    "\n",
    "import os\n",
    "import pickle\n",
    "\n",
    "config_file_path = \"COCO-Detection/faster_rcnn_R_50_FPN_3X.yaml\"\n",
    "checkpoint_url = \"COCO-Detection/faster_rcnn_R_50_FPN_3X.yaml\"\n",
    "\n",
    "output_dir = \"./output/object_detection\"\n",
    "num_classes = 3\n",
    "\n",
    "device = \"cuda\"\n",
    "\n",
    "train_dataset_name = \"LP_train\"\n",
    "train_images_path = \"/home/danilo/humble_ws/depot_dataset/bounding_box_full_2d_data/images\"\n",
    "train_csv_annot_path = \"/home/danilo/humble_ws/depot_dataset/bounding_box_full_2d_data/boxes\""
   ]
  },
  {
   "cell_type": "code",
   "execution_count": 4,
   "id": "a4468239-99dc-4e78-a747-a73dcbb5536e",
   "metadata": {},
   "outputs": [
    {
     "name": "stdout",
     "output_type": "stream",
     "text": [
      "\n"
     ]
    }
   ],
   "source": []
  },
  {
   "cell_type": "code",
   "execution_count": null,
   "id": "08006f79-949c-4145-a089-47a71dcac2a3",
   "metadata": {},
   "outputs": [],
   "source": []
  },
  {
   "cell_type": "code",
   "execution_count": null,
   "id": "77e9a8ed-f65a-4ca1-8db5-8ccc34bf31f4",
   "metadata": {},
   "outputs": [],
   "source": []
  }
 ],
 "metadata": {
  "kernelspec": {
   "display_name": "Python 3 (ipykernel)",
   "language": "python",
   "name": "python3"
  },
  "language_info": {
   "codemirror_mode": {
    "name": "ipython",
    "version": 3
   },
   "file_extension": ".py",
   "mimetype": "text/x-python",
   "name": "python",
   "nbconvert_exporter": "python",
   "pygments_lexer": "ipython3",
   "version": "3.9.12"
  }
 },
 "nbformat": 4,
 "nbformat_minor": 5
}
